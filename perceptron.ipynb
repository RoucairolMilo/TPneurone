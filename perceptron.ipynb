{
 "cells": [
  {
   "cell_type": "markdown",
   "metadata": {
    "id": "JY4MR1nXDmlg"
   },
   "source": [
    "#TP Perceptron"
   ]
  },
  {
   "cell_type": "markdown",
   "metadata": {
    "id": "cppRFCJeDpvG"
   },
   "source": [
    "Le perceptron peut-être utilisé pour faire de la classification binaire: un perceptron représente un moyen pour couper l'espace en deux et la surface de séparation est linéaire (en 2D, c'est une droite, en 3D, un plan, en dimension n, c'est un hyperplan).\n",
    "\n",
    "En dimension 2, on a donc deux attributs (x et y) et le perceptron va être défini par trois poids $w_0$, $w_1$ et $w_2$. \n",
    "Ecrivez une fonction `draw(w)` qui trace la droite qui sépare l'espace en deux selon le perceptron défini par le vecteur $w=[w_0,w_1,w_2]$\n",
    "\n",
    "Chosissez quelques poids et dessinez la séparation de l'espace sur le petit jeu de données utilisé en cours, vous pouvez tiliser la fonction `axline` de matplotlib.\n"
   ]
  },
  {
   "cell_type": "code",
   "execution_count": null,
   "metadata": {
    "colab": {
     "base_uri": "https://localhost:8080/",
     "height": 278
    },
    "id": "UQpBSuMmDZuJ",
    "outputId": "87669cc3-2e74-432b-9d19-8abb21907477"
   },
   "outputs": [],
   "source": [
    "\n",
    "# à compléter"
   ]
  },
  {
   "cell_type": "markdown",
   "metadata": {
    "id": "566R0EP1Fdex"
   },
   "source": [
    "Implémentez un perceptron. Les paramètres en entrée sont \n",
    "* $X$ une matrice de taille $n \\times m$ qui contient les observations\n",
    "   * chaque ligne de $X$ est une observation, et on a $n$ observations\n",
    "   * chaque colonne de $X$ contient les valeurs d'un attribut, et on a $m$ attributs\n",
    "* $y$ est un vecteur qui contient la classe des observations (c'est donc un vecteur de taille $n$).\n",
    "* $maxIterations$ est le nombre maximal de mise à jour (pour arrêter l'algorithme si les données ne sont pas linéairement séparables ou si l'algorithme met trop de temps à converger).\n",
    "\n",
    "En sortie, votre perceptron doit retourner le vecteur de poids $w$ du perceptron. Vous pouvez aussi retourner le nombre d'itérations que vous avez utilisé pour trouver ces poids.\n",
    "\n",
    "\n"
   ]
  },
  {
   "cell_type": "code",
   "execution_count": null,
   "metadata": {
    "id": "cuBg21-h-SQR"
   },
   "outputs": [],
   "source": [
    "def perceptron(X, y, maxIterations):\n",
    "    nu = 1\n",
    "  # à compléter"
   ]
  },
  {
   "cell_type": "markdown",
   "metadata": {
    "id": "sGuvNo6M-Soz"
   },
   "source": [
    "Vous pouvez mettre au point votre algorithme sur le petit jeu de données utilisé en cours ci-dessus. Ensuite, on peut l'utiliser sur la base de données Iris. Ci-dessous, on va travailler seulement avec les classes 0 et 1 (de façon à conserver un problème de classification binaire)."
   ]
  },
  {
   "cell_type": "code",
   "execution_count": null,
   "metadata": {
    "colab": {
     "base_uri": "https://localhost:8080/",
     "height": 330
    },
    "id": "7ZuZLgClIZ8Q",
    "outputId": "eb1342f0-e5e1-4880-f9a5-df5ab4afa5ff"
   },
   "outputs": [],
   "source": [
    "from sklearn.datasets import load_iris\n",
    "Xcomplet, ycomplet = load_iris(return_X_y=True) \n",
    "print(\"Nom des classes: \", np.unique(y))\n",
    "print(\"Nombre d'observations dans chacune des classes:\", np.bincount(y))\n",
    "print(\"Il y a \", Xcomplet.size, \" observations avec \", Xcomplet[0].size, \" attributs\")\n",
    "X=Xcomplet[:,[2,3]][(ycomplet==0) | (ycomplet==1)]\n",
    "y=ycomplet[(ycomplet==0) | (ycomplet==1)]\n",
    "# on travaille ici avec les colonnes 2 et 3, on pourra changer cela.\n",
    "plt.scatter(X[:,0][y==1],X[:,1][y==1], marker='P', c=\"green\")\n",
    "plt.scatter(X[:,0][y==0],X[:,1][y==0], marker='h', c=\"red\")\n"
   ]
  },
  {
   "cell_type": "markdown",
   "metadata": {
    "id": "IOX8KVBRTUt_"
   },
   "source": [
    "# bonus\n",
    "Vous pouvez changer l'ordre des observations utilisé pour faire les mises à jour. Vous devriez voir que le nombre d'itérations peut varier"
   ]
  },
  {
   "cell_type": "code",
   "execution_count": null,
   "metadata": {
    "id": "U3DRW8ruTYcX"
   },
   "outputs": [],
   "source": []
  },
  {
   "cell_type": "markdown",
   "metadata": {
    "id": "9HYTYPZKTYyV"
   },
   "source": [
    "# données linéairement séparables.\n",
    "L'exemple du cours ainsi que les données iris utilisées sont bien linéairement séparables. On va maintenant utiliser d'autres attributs de la base Iris qui ne sont pas séparables. "
   ]
  },
  {
   "cell_type": "code",
   "execution_count": null,
   "metadata": {
    "colab": {
     "base_uri": "https://localhost:8080/",
     "height": 282
    },
    "id": "Li60pQG1TsaH",
    "outputId": "ecb330fe-9ea2-48ce-b12a-04185796f626"
   },
   "outputs": [],
   "source": [
    "# on travaille maintenant avec les colonnes 2 et 3, et les classes 1 et 2\n",
    "X=Xcomplet[:,[2,3]][(ycomplet==1) | (ycomplet==2)]\n",
    "y=ycomplet[(ycomplet==1) | (ycomplet==2)]\n",
    "# les valeurs des classes sont mises à 0 et 1.\n",
    "y=y-1\n",
    "plt.scatter(X[:,0][y==0],X[:,1][y==0], marker='h', c=\"red\")\n",
    "plt.scatter(X[:,0][y==1],X[:,1][y==1], marker='h', c=\"blue\")\n",
    "\n",
    "\n"
   ]
  },
  {
   "cell_type": "markdown",
   "metadata": {
    "id": "i_8b6APaYZae"
   },
   "source": [
    "Utilisez votre code et vérifiez s'il converge ou non."
   ]
  },
  {
   "cell_type": "code",
   "execution_count": null,
   "metadata": {
    "id": "jM2RJ2oMTttW"
   },
   "outputs": [],
   "source": []
  }
 ],
 "metadata": {
  "colab": {
   "collapsed_sections": [],
   "name": "ml-tp7-perceptron.ipynb",
   "provenance": []
  },
  "kernelspec": {
   "display_name": "Python 3 (ipykernel)",
   "language": "python",
   "name": "python3"
  },
  "language_info": {
   "codemirror_mode": {
    "name": "ipython",
    "version": 3
   },
   "file_extension": ".py",
   "mimetype": "text/x-python",
   "name": "python",
   "nbconvert_exporter": "python",
   "pygments_lexer": "ipython3",
   "version": "3.9.12"
  }
 },
 "nbformat": 4,
 "nbformat_minor": 4
}
